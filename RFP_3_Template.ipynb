{
 "cells": [
  {
   "cell_type": "markdown",
   "id": "fdb73e9d",
   "metadata": {},
   "source": [
    "# RFP: Maze Solvers\n",
    "\n",
    "## Project Overview\n",
    "You are invited to submit a proposal that answers the following question:\n",
    "\n",
    "### What path will your elf take?\n",
    "\n",
    "*Please submit your proposal by **2/11/25 at 11:59 PM**.*"
   ]
  },
  {
   "cell_type": "markdown",
   "id": "d88b6a60",
   "metadata": {},
   "source": [
    "## Required Proposal Components\n",
    "\n",
    "### 1. Data Description\n",
    "In the code cell below, use [Gymnasium](https://gymnasium.farama.org/) to set up a [Frozen Lake maze](https://gymnasium.farama.org/environments/toy_text/frozen_lake/) for your project. When you are done with the set up, describe the reward system you plan on using.\n",
    "\n",
    "*Note, a level 5 maze is at least 10 x 10 cells large and contains at least five lake cells.*"
   ]
  },
  {
   "cell_type": "code",
   "execution_count": 40,
   "id": "918bedc8",
   "metadata": {},
   "outputs": [
    {
     "name": "stdout",
     "output_type": "stream",
     "text": [
      "Defaulting to user installation because normal site-packages is not writeable\n",
      "Requirement already satisfied: gymnasium[toy-text] in c:\\users\\cwhite31\\appdata\\roaming\\python\\python39\\site-packages (1.0.0)\n",
      "Requirement already satisfied: cloudpickle>=1.2.0 in c:\\programdata\\anaconda3\\lib\\site-packages (from gymnasium[toy-text]) (2.0.0)\n",
      "Requirement already satisfied: importlib-metadata>=4.8.0 in c:\\programdata\\anaconda3\\lib\\site-packages (from gymnasium[toy-text]) (4.11.3)\n",
      "Requirement already satisfied: farama-notifications>=0.0.1 in c:\\users\\cwhite31\\appdata\\roaming\\python\\python39\\site-packages (from gymnasium[toy-text]) (0.0.4)\n",
      "Requirement already satisfied: typing-extensions>=4.3.0 in c:\\programdata\\anaconda3\\lib\\site-packages (from gymnasium[toy-text]) (4.3.0)\n",
      "Requirement already satisfied: numpy>=1.21.0 in c:\\programdata\\anaconda3\\lib\\site-packages (from gymnasium[toy-text]) (1.21.5)\n",
      "Requirement already satisfied: pygame>=2.1.3 in c:\\users\\cwhite31\\appdata\\roaming\\python\\python39\\site-packages (from gymnasium[toy-text]) (2.6.1)\n",
      "Requirement already satisfied: zipp>=0.5 in c:\\programdata\\anaconda3\\lib\\site-packages (from importlib-metadata>=4.8.0->gymnasium[toy-text]) (3.8.0)\n",
      "Note: you may need to restart the kernel to use updated packages.\n"
     ]
    }
   ],
   "source": [
    "pip install gymnasium[toy-text]"
   ]
  },
  {
   "cell_type": "code",
   "execution_count": 41,
   "id": "8744bf04",
   "metadata": {},
   "outputs": [],
   "source": [
    "import gymnasium as gym"
   ]
  },
  {
   "cell_type": "code",
   "execution_count": 42,
   "id": "34314a12",
   "metadata": {},
   "outputs": [],
   "source": [
    "# Make maze\n",
    "env = gym.make('FrozenLake-v1', render_mode='human')\n",
    "initial_state = env.reset()\n",
    "\n",
    "env.render()\n",
    "\n",
    "# Take a step (0: LEFT, 1: DOWN, 2: RIGHT, 3: UP)\n",
    "action = 2\n",
    "new_state, reward, terminated, truncated, info = env.step(action)\n",
    "\n",
    "env.render()"
   ]
  },
  {
   "cell_type": "code",
   "execution_count": 49,
   "id": "a117f35f",
   "metadata": {},
   "outputs": [],
   "source": [
    "env.close()"
   ]
  },
  {
   "cell_type": "code",
   "execution_count": 44,
   "id": "2c32d624",
   "metadata": {},
   "outputs": [
    {
     "name": "stdout",
     "output_type": "stream",
     "text": [
      "2.6.1\n"
     ]
    }
   ],
   "source": [
    "import pygame\n",
    "print(pygame.__version__)\n"
   ]
  },
  {
   "cell_type": "code",
   "execution_count": 45,
   "id": "fad66d02",
   "metadata": {},
   "outputs": [],
   "source": [
    "env = gym.make('FrozenLake-v1', render_mode='human')\n",
    "env.reset()\n",
    "env.render()\n"
   ]
  },
  {
   "cell_type": "code",
   "execution_count": 48,
   "id": "2b7725d6",
   "metadata": {},
   "outputs": [],
   "source": [
    "desc = [\n",
    "    \"SFFFHFFFFF\",\n",
    "    \"FFFFFFFFFF\",\n",
    "    \"FFFHFFFFFF\",\n",
    "    \"FFFFFHFFFF\",\n",
    "    \"FFFHFFFFFF\",\n",
    "    \"FHHFFFHFFF\",\n",
    "    \"FHFFHFHFFF\",\n",
    "    \"FFFHFFFFFF\",\n",
    "    \"FFFFFFFFFF\",\n",
    "    \"FFFFHFFFFG\"\n",
    "]"
   ]
  },
  {
   "cell_type": "markdown",
   "id": "c38ed9f9",
   "metadata": {},
   "source": [
    "###### Describe your reward system here."
   ]
  },
  {
   "cell_type": "markdown",
   "id": "67f80b3f",
   "metadata": {},
   "source": [
    "### 2. Training Your Model\n",
    "In the cell seen below, write the code you need to train a Q-Learning model. Display your final Q-table once you are done training your model.\n",
    "\n",
    "*Note, level 5 work uses only the standard Python library and Pandas to train your Q-Learning model. A level 4 uses external libraries like Baseline3.*"
   ]
  },
  {
   "cell_type": "code",
   "execution_count": 5,
   "id": "73e62305",
   "metadata": {},
   "outputs": [],
   "source": [
    "# Train model here.\n",
    "# Don't forget to display your final Q table!"
   ]
  },
  {
   "cell_type": "markdown",
   "id": "3b912364",
   "metadata": {},
   "source": [
    "### 3. Testing Your Model\n",
    "In the cell seen below, write the code you need to test your Q-Learning model for **1000 episodes**. It is important to test your model for 1000 episodes so that we are all able to compare our results.\n",
    "\n",
    "*Note, level 5 testing uses both a success rate and an average steps taken metric to evaluate your model. Level 4 uses one or the other.*"
   ]
  },
  {
   "cell_type": "code",
   "execution_count": null,
   "id": "e30cf1dd",
   "metadata": {},
   "outputs": [],
   "source": [
    "# Test model here."
   ]
  },
  {
   "cell_type": "markdown",
   "id": "78e7e09e",
   "metadata": {},
   "source": [
    "### 4. Final Answer\n",
    "In the first cell below, describe the path your elf takes to get to the gift. *Note, a level 5 answer includes a gif of the path your elf takes in order to reach the gift.*\n",
    "\n",
    "In the second cell seen below, describe how well your Q-Learning model performed. Make sure that you explicitly name the **learning rate**, **the discount factor**, and the **reward system** that you used when training your final model. *Note, a level 5 description describes the model's performance using two types of quantitative evidence.*"
   ]
  },
  {
   "cell_type": "markdown",
   "id": "9b6eef8e",
   "metadata": {},
   "source": [
    "![example image](https://gymnasium.farama.org/_images/frozen_lake.gif)"
   ]
  },
  {
   "cell_type": "markdown",
   "id": "54fdae15",
   "metadata": {},
   "source": [
    "#### Describe the path your elf takes here."
   ]
  },
  {
   "cell_type": "markdown",
   "id": "6b8f66ed",
   "metadata": {},
   "source": [
    "#### Describe how well your Q-Learning model performed here."
   ]
  }
 ],
 "metadata": {
  "kernelspec": {
   "display_name": "Python 3 (ipykernel)",
   "language": "python",
   "name": "python3"
  },
  "language_info": {
   "codemirror_mode": {
    "name": "ipython",
    "version": 3
   },
   "file_extension": ".py",
   "mimetype": "text/x-python",
   "name": "python",
   "nbconvert_exporter": "python",
   "pygments_lexer": "ipython3",
   "version": "3.9.13"
  }
 },
 "nbformat": 4,
 "nbformat_minor": 5
}
