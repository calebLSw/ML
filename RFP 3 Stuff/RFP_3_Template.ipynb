{
 "cells": [
  {
   "cell_type": "markdown",
   "id": "fdb73e9d",
   "metadata": {},
   "source": [
    "# RFP: Maze Solvers\n",
    "\n",
    "## Project Overview\n",
    "You are invited to submit a proposal that answers the following question:\n",
    "\n",
    "### What path will your elf take?\n",
    "\n",
    "*Please submit your proposal by **2/11/25 at 11:59 PM**.*"
   ]
  },
  {
   "cell_type": "markdown",
   "id": "d88b6a60",
   "metadata": {},
   "source": [
    "## Required Proposal Components\n",
    "\n",
    "### 1. Data Description\n",
    "In the code cell below, use [Gymnasium](https://gymnasium.farama.org/) to set up a [Frozen Lake maze](https://gymnasium.farama.org/environments/toy_text/frozen_lake/) for your project. When you are done with the set up, describe the reward system you plan on using.\n",
    "\n",
    "*Note, a level 5 maze is at least 10 x 10 cells large and contains at least five lake cells.*"
   ]
  },
  {
   "cell_type": "code",
   "execution_count": 3,
   "id": "918bedc8",
   "metadata": {},
   "outputs": [
    {
     "name": "stdout",
     "output_type": "stream",
     "text": [
      "Collecting gymnasium[toy-text]Note: you may need to restart the kernel to use updated packages.\n",
      "\n",
      "  Downloading gymnasium-1.1.0-py3-none-any.whl.metadata (9.4 kB)\n",
      "Requirement already satisfied: numpy>=1.21.0 in c:\\users\\17203\\anaconda3\\lib\\site-packages (from gymnasium[toy-text]) (1.26.4)\n",
      "Requirement already satisfied: cloudpickle>=1.2.0 in c:\\users\\17203\\anaconda3\\lib\\site-packages (from gymnasium[toy-text]) (3.0.0)\n",
      "Requirement already satisfied: typing-extensions>=4.3.0 in c:\\users\\17203\\anaconda3\\lib\\site-packages (from gymnasium[toy-text]) (4.11.0)\n",
      "Collecting farama-notifications>=0.0.1 (from gymnasium[toy-text])\n",
      "  Downloading Farama_Notifications-0.0.4-py3-none-any.whl.metadata (558 bytes)\n",
      "Collecting pygame>=2.1.3 (from gymnasium[toy-text])\n",
      "  Downloading pygame-2.6.1-cp312-cp312-win_amd64.whl.metadata (13 kB)\n",
      "Downloading Farama_Notifications-0.0.4-py3-none-any.whl (2.5 kB)\n",
      "Downloading pygame-2.6.1-cp312-cp312-win_amd64.whl (10.6 MB)\n",
      "   ---------------------------------------- 0.0/10.6 MB ? eta -:--:--\n",
      "   ------ --------------------------------- 1.8/10.6 MB 10.1 MB/s eta 0:00:01\n",
      "   ------------ --------------------------- 3.4/10.6 MB 9.2 MB/s eta 0:00:01\n",
      "   -------------------- ------------------- 5.5/10.6 MB 9.6 MB/s eta 0:00:01\n",
      "   ------------------------------ --------- 8.1/10.6 MB 10.3 MB/s eta 0:00:01\n",
      "   ---------------------------------------  10.5/10.6 MB 10.6 MB/s eta 0:00:01\n",
      "   ---------------------------------------- 10.6/10.6 MB 10.4 MB/s eta 0:00:00\n",
      "Downloading gymnasium-1.1.0-py3-none-any.whl (965 kB)\n",
      "   ---------------------------------------- 0.0/965.5 kB ? eta -:--:--\n",
      "   --------------------------------------- 965.5/965.5 kB 11.3 MB/s eta 0:00:00\n",
      "Installing collected packages: farama-notifications, pygame, gymnasium\n",
      "Successfully installed farama-notifications-0.0.4 gymnasium-1.1.0 pygame-2.6.1\n"
     ]
    }
   ],
   "source": [
    "pip install gymnasium[toy-text]"
   ]
  },
  {
   "cell_type": "code",
   "execution_count": 4,
   "id": "8744bf04",
   "metadata": {},
   "outputs": [],
   "source": [
    "import gymnasium as gym"
   ]
  },
  {
   "cell_type": "code",
   "execution_count": 5,
   "id": "34314a12",
   "metadata": {},
   "outputs": [],
   "source": [
    "# Make maze\n",
    "env = gym.make('FrozenLake-v1', render_mode='human')\n",
    "initial_state = env.reset()\n",
    "\n",
    "env.render()\n",
    "\n",
    "# Take a step (0: LEFT, 1: DOWN, 2: RIGHT, 3: UP)\n",
    "action = 2\n",
    "new_state, reward, terminated, truncated, info = env.step(action)\n",
    "\n",
    "env.render()"
   ]
  },
  {
   "cell_type": "code",
   "execution_count": 6,
   "id": "2167a34e",
   "metadata": {},
   "outputs": [],
   "source": [
    "env.close()"
   ]
  },
  {
   "cell_type": "code",
   "execution_count": 7,
   "id": "2c32d624",
   "metadata": {},
   "outputs": [
    {
     "name": "stdout",
     "output_type": "stream",
     "text": [
      "2.6.1\n"
     ]
    }
   ],
   "source": [
    "import pygame\n",
    "print(pygame.__version__)\n"
   ]
  },
  {
   "cell_type": "code",
   "execution_count": null,
   "id": "fad66d02",
   "metadata": {},
   "outputs": [],
   "source": [
    "\n"
   ]
  },
  {
   "cell_type": "code",
   "execution_count": 9,
   "id": "1cb24c48",
   "metadata": {},
   "outputs": [],
   "source": [
    "desc = [\n",
    "    \"SFFFHFFFFF\",\n",
    "    \"FFFFFFFFFF\",\n",
    "    \"FFFHFFFFFF\",\n",
    "    \"FFFFFHFFFF\",\n",
    "    \"FFFHFFFFFF\",\n",
    "    \"FHHFFFHFFF\",\n",
    "    \"FHFFHFHFFF\",\n",
    "    \"FFFHFFFFFF\",\n",
    "    \"FFFFFFFFFF\",\n",
    "    \"FFFFHFFFFG\"\n",
    "]"
   ]
  },
  {
   "cell_type": "code",
   "execution_count": 10,
   "id": "23c96b87",
   "metadata": {},
   "outputs": [],
   "source": [
    "import gymnasium as gym\n",
    "\n",
    "# Define your custom map description\n",
    "desc = [\n",
    "    \"SFFFHFFFFF\",\n",
    "    \"FFFFFFFFFF\",\n",
    "    \"FFFHFFFFFF\",\n",
    "    \"FFFFFHFFFF\",\n",
    "    \"FFFHFFFFFF\",\n",
    "    \"FHHFFFHFFF\",\n",
    "    \"FHFFHFHFFF\",\n",
    "    \"FFFHFFFFFF\",\n",
    "    \"FFFFFFFFFF\",\n",
    "    \"FFFFHFFFFG\"\n",
    "]\n",
    "\n",
    "# Create the environment using your custom map\n",
    "env = gym.make('FrozenLake-v1', desc=desc, render_mode='human')\n",
    "\n",
    "# Reset the environment\n",
    "initial_state = env.reset()\n",
    "\n",
    "# Render the initial state\n",
    "env.render()\n",
    "\n",
    "# Take a step (0: LEFT, 1: DOWN, 2: RIGHT, 3: UP)\n",
    "action = 2  # Move RIGHT\n",
    "new_state, reward, terminated, truncated, info = env.step(action)\n",
    "\n",
    "# Render the new state after action\n",
    "env.render()\n",
    "\n",
    "# Close the environment\n",
    "env.close()\n"
   ]
  },
  {
   "cell_type": "markdown",
   "id": "c38ed9f9",
   "metadata": {},
   "source": [
    "###### Describe your reward system here."
   ]
  },
  {
   "cell_type": "markdown",
   "id": "67f80b3f",
   "metadata": {},
   "source": [
    "### 2. Training Your Model\n",
    "In the cell seen below, write the code you need to train a Q-Learning model. Display your final Q-table once you are done training your model.\n",
    "\n",
    "*Note, level 5 work uses only the standard Python library and Pandas to train your Q-Learning model. A level 4 uses external libraries like Baseline3.*"
   ]
  },
  {
   "cell_type": "code",
   "execution_count": null,
   "id": "73e62305",
   "metadata": {},
   "outputs": [],
   "source": [
    "import gymnasium as gym\n",
    "import numpy as np\n",
    "import pandas as pd\n",
    "import random\n",
    "\n",
    "# Create the environment with the custom map\n",
    "desc = [\n",
    "    \"SFFFHFFFFF\",\n",
    "    \"FFFFFFFFFF\",\n",
    "    \"FFFHFFFFFF\",\n",
    "    \"FFFFFHFFFF\",\n",
    "    \"FFFHFFFFFF\",\n",
    "    \"FHHFFFHFFF\",\n",
    "    \"FHFFHFHFFF\",\n",
    "    \"FFFHFFFFFF\",\n",
    "    \"FFFFFFFFFF\",\n",
    "    \"FFFFHFFFFG\"\n",
    "]\n",
    "env = gym.make('FrozenLake-v1', desc=desc, render_mode='human')\n",
    "\n",
    "# Initialize parameters\n",
    "alpha = 0.8       # Learning rate\n",
    "gamma = 0.95      # Discount factor\n",
    "epsilon = 0.1     # Exploration rate\n",
    "episodes = 10000  # Number of training episodes\n",
    "max_steps = 100   # Max steps per episode\n",
    "\n",
    "# Initialize the Q-table (states x actions)\n",
    "n_actions = env.action_space.n\n",
    "n_states = env.observation_space.n\n",
    "Q_table = np.zeros((n_states, n_actions))\n",
    "\n",
    "# Function to choose an action using epsilon-greedy strategy\n",
    "def choose_action(state):\n",
    "    if random.uniform(0, 1) < epsilon:\n",
    "        return env.action_space.sample()  # Exploration: choose random action\n",
    "    else:\n",
    "        return np.argmax(Q_table[state])  # Exploitation: choose best action from Q-table\n",
    "\n",
    "# Training loop\n",
    "for episode in range(episodes):\n",
    "    state, _ = env.reset()  # Reset the environment at the start of each episode\n",
    "    terminated, truncated = False, False\n",
    "\n",
    "    for step in range(max_steps):\n",
    "        action = choose_action(state)\n",
    "        new_state, reward, terminated, truncated, info = env.step(action)\n",
    "\n",
    "        # Update the Q-table using the Q-learning formula\n",
    "        Q_table[state, action] = Q_table[state, action] + alpha * (reward + gamma * np.max(Q_table[new_state]) - Q_table[state, action])\n",
    "\n",
    "        # Transition to the new state\n",
    "        state = new_state\n",
    "\n",
    "        # End the episode if terminated or truncated\n",
    "        if terminated or truncated:\n",
    "            break\n",
    "\n",
    "# Display the final Q-table\n",
    "Q_table_df = pd.DataFrame(Q_table)\n",
    "print(\"Final Q-table after training:\")\n",
    "print(Q_table_df)\n"
   ]
  },
  {
   "cell_type": "markdown",
   "id": "3b912364",
   "metadata": {},
   "source": [
    "### 3. Testing Your Model\n",
    "In the cell seen below, write the code you need to test your Q-Learning model for **1000 episodes**. It is important to test your model for 1000 episodes so that we are all able to compare our results.\n",
    "\n",
    "*Note, level 5 testing uses both a success rate and an average steps taken metric to evaluate your model. Level 4 uses one or the other.*"
   ]
  },
  {
   "cell_type": "code",
   "execution_count": null,
   "id": "e30cf1dd",
   "metadata": {},
   "outputs": [],
   "source": [
    "import numpy as np\n",
    "\n",
    "# Initialize testing parameters\n",
    "test_episodes = 1000\n",
    "total_rewards = []\n",
    "successful_episodes = 0\n",
    "max_steps = 100\n",
    "\n",
    "# Function to evaluate the trained Q-table\n",
    "def test_model():\n",
    "    global successful_episodes\n",
    "    for episode in range(test_episodes):\n",
    "        state, _ = env.reset()\n",
    "        total_reward = 0\n",
    "        terminated, truncated = False, False\n",
    "        \n",
    "        for step in range(max_steps):\n",
    "            action = np.argmax(Q_table[state])  # Choose the best action based on Q-table\n",
    "            new_state, reward, terminated, truncated, info = env.step(action)\n",
    "            total_reward += reward\n",
    "            state = new_state\n",
    "            \n",
    "            if terminated or truncated:\n",
    "                break\n",
    "        \n",
    "        total_rewards.append(total_reward)\n",
    "        if total_reward > 0:  # Assuming reaching the goal gives a reward\n",
    "            successful_episodes += 1\n",
    "\n",
    "# Run the test\n",
    "test_model()\n",
    "\n",
    "# Calculate and display performance metrics\n",
    "success_rate = successful_episodes / test_episodes\n",
    "average_reward = np.mean(total_rewards)\n",
    "\n",
    "print(f\"Success Rate: {success_rate * 100:.2f}%\")\n",
    "print(f\"Average Reward per Episode: {average_reward:.2f}\")\n"
   ]
  },
  {
   "cell_type": "markdown",
   "id": "78e7e09e",
   "metadata": {},
   "source": [
    "### 4. Final Answer\n",
    "In the first cell below, describe the path your elf takes to get to the gift. *Note, a level 5 answer includes a gif of the path your elf takes in order to reach the gift.*\n",
    "\n",
    "In the second cell seen below, describe how well your Q-Learning model performed. Make sure that you explicitly name the **learning rate**, **the discount factor**, and the **reward system** that you used when training your final model. *Note, a level 5 description describes the model's performance using two types of quantitative evidence.*"
   ]
  },
  {
   "cell_type": "markdown",
   "id": "9b6eef8e",
   "metadata": {},
   "source": [
    "![example image](https://gymnasium.farama.org/_images/frozen_lake.gif)"
   ]
  },
  {
   "cell_type": "markdown",
   "id": "54fdae15",
   "metadata": {},
   "source": [
    "#### Takes a specific path based on Q-Learning"
   ]
  },
  {
   "cell_type": "markdown",
   "id": "6b8f66ed",
   "metadata": {},
   "source": [
    "#### My code requires a lot of adjustment, so it did not perform well. "
   ]
  },
  {
   "cell_type": "code",
   "execution_count": null,
   "id": "8a661d4b-fd3c-4eb7-aba1-f144f62bdd34",
   "metadata": {},
   "outputs": [],
   "source": []
  }
 ],
 "metadata": {
  "kernelspec": {
   "display_name": "Python [conda env:base] *",
   "language": "python",
   "name": "conda-base-py"
  },
  "language_info": {
   "codemirror_mode": {
    "name": "ipython",
    "version": 3
   },
   "file_extension": ".py",
   "mimetype": "text/x-python",
   "name": "python",
   "nbconvert_exporter": "python",
   "pygments_lexer": "ipython3",
   "version": "3.12.7"
  }
 },
 "nbformat": 4,
 "nbformat_minor": 5
}
